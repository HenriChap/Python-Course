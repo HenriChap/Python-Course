{
 "cells": [
  {
   "cell_type": "markdown",
   "id": "037f41cf",
   "metadata": {},
   "source": [
    "# Data Analysis in Python\n",
    "## Statistics in Python\n",
    "\n"
   ]
  },
  {
   "cell_type": "markdown",
   "id": "f4e53dae",
   "metadata": {},
   "source": [
    "### Load packages\n",
    "\n",
    "To begin your analysis, import the main Python packages for data analysis.\n",
    "Import `numpy` for numerical operations, `pandas` for handling data frames. Give them the alias `np`, `pd`, respectively. \n",
    "From package `scipy`, import module `stats` for statistical functions.\n",
    "Use the `from`, `import` and `as` keywords.\n",
    "\n",
    "Here is some [support material](https://openclassrooms.com/en/courses/6900846-set-up-a-python-environment/6989471-import-python-packages-and-modules) to help with the task.\n",
    "\n",
    "---\n"
   ]
  },
  {
   "cell_type": "code",
   "execution_count": null,
   "id": "dd41b705",
   "metadata": {},
   "outputs": [],
   "source": [
    "import __ as __ \n",
    "import __ as __\n",
    "from __ import __"
   ]
  },
  {
   "cell_type": "markdown",
   "id": "ab6bf590",
   "metadata": {},
   "source": [
    "**Optional:** Set random seed, for reproducibility\n",
    "\n",
    "Setting a random seed ensures that your results are reproducible. Use the `seed()` method from the `numpy.random` module.  \n",
    "More information about : [numpy.random.seed documentation](https://numpy.org/doc/stable/reference/random/generated/numpy.random.seed.html)\n",
    "\n",
    "---"
   ]
  },
  {
   "cell_type": "code",
   "execution_count": null,
   "id": "18aba54c",
   "metadata": {},
   "outputs": [],
   "source": [
    "np.random.seed(__) #choose a number"
   ]
  },
  {
   "cell_type": "markdown",
   "id": "6e980f97",
   "metadata": {},
   "source": [
    "### Making a mock data frame.\n",
    "\n",
    "Use a dictionary data stucture and fill it with data!\\\n",
    "We have 3 indexes: *\"group\"*, *\"score1\"* and *\"score2\"*.\n",
    "+ In *\"group\"*, set the group names that will bet repeated 30 times each.\n",
    "+ With `np.concate`, bind the next two arrays.\n",
    "+ Comment what each parameter inside `np.random.normal` means.\n",
    "+ Follow the example in *\"score1\"* to set the values in *\"score2\"*. \n",
    "+ Use `pd.DataFrame` to organize your data, including one categorical variable and two numeric variables.  \n",
    "\n",
    "More info? See:\n",
    "\n",
    "- [Using numpy.concatenate()](https://www.geeksforgeeks.org/machine-learning/numpy-concatenate-function-python/)\n",
    "- [Using numpy.random.normal()](https://www.datacamp.com/doc/numpy/random-normal)  \n",
    "- [Tips on building data frames with `pandas`](https://www.w3schools.com/python/pandas/pandas_dataframes.asp)\n",
    "\n",
    "---"
   ]
  },
  {
   "cell_type": "code",
   "execution_count": null,
   "id": "47384a87",
   "metadata": {},
   "outputs": [],
   "source": [
    "data = {\n",
    "    'group': ['_'] * 30 + ['_'] * 30, #substitute underscore for one category each. E.g.: \"A\" or \"B\"\n",
    "    'score1': np.concatenate([\n",
    "        np.random.normal(loc = 50, scale = 10, size = 30) # parameters for mean, standard deviation and sample size\n",
    "        np.random.normal(__, __, __) \n",
    "    ]),\n",
    "    'score2': np._____([\n",
    "        np._______(__,__,__),\n",
    "        np._______(__,__,__)\n",
    "    ])\n",
    "}\n",
    "df = pd.___(data) #turn the dictionary into a DataFrame\n",
    "df.head() #method to show the top rows of a DataFrame"
   ]
  },
  {
   "cell_type": "markdown",
   "id": "49096907",
   "metadata": {},
   "source": [
    "### Save data table\n",
    "\n",
    "Save your DataFrame to a CSV file using the `to_csv()` method from the `pd.DataFrame` class.  \n",
    "See: [pandas.DataFrame.to_csv documentation](https://www.geeksforgeeks.org/pandas/saving-a-pandas-dataframe-as-a-csv/)\n",
    "\n",
    "---"
   ]
  },
  {
   "cell_type": "code",
   "execution_count": null,
   "id": "e60d008e",
   "metadata": {},
   "outputs": [],
   "source": [
    "df.to_csv(\"name_your_file.csv\", index=False) #index, in this case, is also known as row names"
   ]
  },
  {
   "cell_type": "markdown",
   "id": "1c7bd245",
   "metadata": {},
   "source": [
    "### Test Assumptions\n",
    "\n",
    "Test statistical assumptions such as normality and equality of variances. Use the `stats.shapiro()` method for normality and `stats.levene()` for variance equality from the `scipy.stats` module.\\\n",
    "\n",
    "But first, how to select part of the data frame:\n",
    "\n",
    "```\n",
    "df['group'] # you can use columns names to select\n",
    "df['group'] == 'A' # you can also perform operations logical...\n",
    "df[df['group'] == 'A'] #... to select a specific part of your data frame\n",
    "df[df['group'] == 'A']['score1'] #and then you can, again, select just a part of it\n",
    "\n",
    "```\n",
    "\n",
    "More info:\n",
    "\n",
    "- [Indexing Dataframes](https://www.dataquest.io/blog/tutorial-indexing-dataframes-in-pandas/)\n",
    "- [Performing Shapiro-Wilk Test](https://www.statology.org/shapiro-wilk-test-python/)  \n",
    "- [Performing Levene's Test](https://www.statology.org/levenes-test-python/)\n",
    "\n",
    "---"
   ]
  },
  {
   "cell_type": "code",
   "execution_count": null,
   "id": "d9bdb680",
   "metadata": {},
   "outputs": [],
   "source": [
    "#\n",
    "df_group1 = df[df['group'] == '_']['score1'] #select group value\n",
    "df_group2 = df[df['group'] == '_']['score1'] #select the other group value\n",
    "\n",
    "# Check normality for each group\n",
    "stats.shapiro(df_group1)\n",
    "stats.shapiro(_________) #complete the code\n",
    "\n",
    "# Check variance equality\n",
    "stats.levene(________________, _________________)#insert both dataframe pieces"
   ]
  },
  {
   "cell_type": "markdown",
   "id": "83c7f1e4",
   "metadata": {},
   "source": [
    "### Using T-test, Welsh test or U Test\n",
    "\n",
    "Some methods and functions, like the ones we use in the following cell, returns list of values. You can save a variable only with the value that matters by *indexing* or *.label*\n"
   ]
  },
  {
   "cell_type": "code",
   "execution_count": null,
   "id": "3bbb1709-2047-498c-9cfd-febea8947851",
   "metadata": {},
   "outputs": [],
   "source": [
    "print(stats.ttest_ind(df_group1, df_group2)) #give use the result \"statistic\" and \"pvalue\"\n",
    "print(stats.ttest_ind(df_group1, df_group2)[0]) #return the first element of the list\n",
    "t_p = stats.ttest_ind(df_group1, df_group2).pvalue #return the element named \"pvalue\"\n",
    "print(\"T-test p-value:\", t_p)"
   ]
  },
  {
   "cell_type": "markdown",
   "id": "bbadc81f-e29a-4135-b878-203b068c8502",
   "metadata": {},
   "source": [
    "Now compare groups using statistical tests. Use `stats.ttest_ind()` for t-tests, specifying the `stats.equal_var` parameter for Welch’s test, and `mannwhitneyu()` for non-parametric comparison, all from `scipy.stats`. Use `print` to check only the `.pvalue`\n",
    "\n",
    "More info:  \n",
    "- [Significance Tests](https://www.w3schools.com/python/scipy/scipy_statistical_significance_tests.php)\n",
    "\n",
    "---"
   ]
  },
  {
   "cell_type": "code",
   "execution_count": null,
   "id": "9de49b5a",
   "metadata": {
    "scrolled": true
   },
   "outputs": [],
   "source": [
    "# Welch's t-test (does not assume equal variances)\n",
    "t_p_welch = stats.ttest_ind(___, equal_var=___).pvalue #tip, is a boolean value\n",
    "print(\"Welch's t-test p-value:\", ___)\n",
    "\n",
    "# Mann-Whitney U test (non-parametric)\n",
    "u_p = stats.mannwhitneyu(____)___\n",
    "print(\"Mann-Whitney U test p-value:\", __)"
   ]
  },
  {
   "cell_type": "markdown",
   "id": "c8ed3537",
   "metadata": {},
   "source": [
    "### Linear Regression\n",
    "\n",
    "Fit a linear regression model to your data using the `linregress()` function from the `scipy.stats` module. This function will provide regression statistics such as slope and intercept.  \n",
    "\n",
    "But before, let's learn another coding trick:\n",
    "\n",
    "You learned some functions return more than a value. So, if you want to save all values in different variables, would you need to run the same function over and over again?\n",
    "No, because um can assing multiple variables at once! You just need to keep the assigned values in other with the functions index.\n",
    "\n",
    "```\n",
    "# Instead of\n",
    "t_stat = stats.ttest_ind(df_group1, df_group2)[0]\n",
    "t_p = stats.ttest_ind(df_group1, df_group2)[1]\n",
    "\n",
    "# You can\n",
    "t_stat, t_p = stats.ttest_ind(df_group1, df_group2)\n",
    "```\n",
    "In the case of `linregress()`, the returend values are the ones following this order: slope, intercept, rvalue, pvalue, stderr, intercept_stderr\n",
    "\n",
    "\n",
    "See more info:\\\n",
    "+ [Linear regression in Python](https://www.w3schools.com/python/python_ml_linear_regression.asp)\n",
    "\n",
    "---"
   ]
  },
  {
   "cell_type": "code",
   "execution_count": null,
   "id": "de619df2",
   "metadata": {},
   "outputs": [],
   "source": [
    "# Simple regression: score ~ group (encoded as 0/1)\n",
    "X = df['score1']\n",
    "y = df['score2']\n",
    "\n",
    "_____ = stats.linregress(X, y) #assing all values\n",
    "print(\"Intercept:\", __)\n",
    "print(\"Slope:\", __)\n",
    "print(\"Pearson's R:\", __)\n",
    "print(\"p-value:\", __)\n",
    "print(\"Standard Error:\", __)\n",
    "print(\"Intercept Standard Error:\", __)\n"
   ]
  }
 ],
 "metadata": {
  "kernelspec": {
   "display_name": "Python 3 (Spyder)",
   "language": "python3",
   "name": "python3"
  },
  "language_info": {
   "codemirror_mode": {
    "name": "ipython",
    "version": 3
   },
   "file_extension": ".py",
   "mimetype": "text/x-python",
   "name": "python",
   "nbconvert_exporter": "python",
   "pygments_lexer": "ipython3",
   "version": "3.13.7"
  }
 },
 "nbformat": 4,
 "nbformat_minor": 5
}
