{
 "cells": [
  {
   "cell_type": "markdown",
   "id": "c25548ea",
   "metadata": {},
   "source": [
    "# Data Analysis in Python\n",
    "## Exploratory Data Analysis"
   ]
  },
  {
   "cell_type": "markdown",
   "id": "a4ffe6eb",
   "metadata": {},
   "source": [
    "### Load modules\n",
    "\n",
    "Start by importing the main Python packages for exploratory data analysis. Use `pandas` for data manipulation, `matplotlib.pyplot` for plotting, and `seaborn` for advanced visualizations. Use alias like the previous class. \n",
    "\n",
    "---"
   ]
  },
  {
   "cell_type": "code",
   "execution_count": null,
   "id": "1e168e4d-cf3f-43f1-87c4-4ab0fc2b85a5",
   "metadata": {},
   "outputs": [],
   "source": []
  },
  {
   "cell_type": "markdown",
   "id": "8832fce4",
   "metadata": {},
   "source": [
    "### Load data\n",
    "\n",
    "Load your dataset into a DataFrame using the appropriate pandas function. For Excel files, use `pd.read_excel()`. It works like `pd.read_csv()`\n",
    "More info: [Working with Excel in Python](https://www.geeksforgeeks.org/python/working-with-excel-files-using-pandas/)\n",
    "\n",
    "---"
   ]
  },
  {
   "cell_type": "code",
   "execution_count": null,
   "id": "545bc120",
   "metadata": {},
   "outputs": [],
   "source": [
    "# Load data\n",
    "df = ___\n",
    "df.head()"
   ]
  },
  {
   "cell_type": "markdown",
   "id": "d1c94b42",
   "metadata": {},
   "source": [
    "### Check missing data\n",
    "\n",
    "Check for missing values in your DataFrame using the `.isnull()` method. Count the missing values with `.sum()` method.\n",
    "\n",
    "See:  \n",
    "- [Pandas dataframe.sum()](https://www.geeksforgeeks.org/pandas/python-pandas-dataframe-sum/)  \n",
    "- [Pandas DataFrame isnull() Method](https://www.w3schools.com/python/pandas/ref_df_isnull.asp)\n",
    "\n",
    "---"
   ]
  },
  {
   "cell_type": "code",
   "execution_count": null,
   "id": "a5ee2dfb",
   "metadata": {},
   "outputs": [],
   "source": [
    "print(\"Number of missing values: \", df.__().__())"
   ]
  },
  {
   "cell_type": "markdown",
   "id": "d21dce2a",
   "metadata": {},
   "source": [
    "### Check duplicated rows\n",
    "\n",
    "Identify duplicated rows in your DataFrame using the `.duplicated()` method.  \n",
    "See: [pandas.DataFrame.duplicated documentation](https://pandas.pydata.org/docs/reference/api/pandas.DataFrame.duplicated.html)\n",
    "\n",
    "---"
   ]
  },
  {
   "cell_type": "code",
   "execution_count": null,
   "id": "1ce77847",
   "metadata": {},
   "outputs": [],
   "source": [
    "print(\"Duplicated rows:\", df.__().__())\n",
    "df[df.duplicated()]"
   ]
  },
  {
   "cell_type": "markdown",
   "id": "29524551",
   "metadata": {},
   "source": [
    "### Data Cleaning\n",
    "\n",
    "Clean your data by removing duplicated rows and rows with missing values. Use `.drop_duplicates()` and `.dropna()` methods from pandas. There is a `ID` column that we don't want to use. Use `.drop()` to remove it. Set the first argument with the column name to be removed. The argument `axis` is used to define if you are using `labels` to indentify columns or rows.\n",
    "See:  \n",
    "- [Removing duplicated rows](https://www.geeksforgeeks.org/pandas/python-pandas-dataframe-drop_duplicates/)  \n",
    "- [Removing rows with empty values](https://www.geeksforgeeks.org/python/python-pandas-dataframe-dropna/)\n",
    "- [Removing columns](https://www.geeksforgeeks.org/python/python-delete-rows-columns-from-dataframe-using-pandas-drop/)\n",
    "\n",
    "---"
   ]
  },
  {
   "cell_type": "code",
   "execution_count": null,
   "id": "b43c17fc",
   "metadata": {},
   "outputs": [],
   "source": [
    "df = df.drop_duplicates()\n",
    "df = df.dropna()\n",
    "df = df.drop(labels = __, axis = \"columns\") "
   ]
  },
  {
   "cell_type": "markdown",
   "id": "b4d8789c",
   "metadata": {},
   "source": [
    "### Data Summary\n",
    "\n",
    "Check some summary statistics and evaluate if your data is consistent. Use `.describe()` methods from pandas. It behaves like `.dropna()` and `.drop_duplicate()`\n",
    "\n",
    "See:\n",
    "- [pandas.DataFrame.describe documentation](https://pandas.pydata.org/docs/reference/api/pandas.DataFrame.describe.html)  "
   ]
  },
  {
   "cell_type": "code",
   "execution_count": null,
   "id": "32d68667",
   "metadata": {},
   "outputs": [],
   "source": [
    "\n",
    "print(\"Summary statistics for numerical variables:\")\n",
    "print(___)\n"
   ]
  },
  {
   "cell_type": "markdown",
   "id": "97415cd7",
   "metadata": {},
   "source": [
    "### Density Plot\n",
    "\n",
    "Visualize the distribution of numeric columns using kernel density estimation plots, use `df.plot.density()`. Although `pandas` is a package to work with data frames, the are some ploting methods, like this one.\n",
    "\n",
    "See: \n",
    "[Pandas density plot method](https://www.geeksforgeeks.org/python/density-plots-with-pandas-in-python/)\n",
    "\n",
    "---"
   ]
  },
  {
   "cell_type": "code",
   "execution_count": null,
   "id": "0b101154",
   "metadata": {},
   "outputs": [],
   "source": [
    "# Density Plot\n",
    "df.plot.density(bw_method='__', figsize=(10, 6)) #visit the reference material and test some bw_methods\n",
    "plt.title('Density Plot for Multiple Parameters')\n",
    "plt.show()\n"
   ]
  },
  {
   "cell_type": "markdown",
   "id": "3790f838",
   "metadata": {},
   "source": [
    "### Correlation Matrix\n",
    "\n",
    "Explore relationships between numeric variables by calculating and visualizing the correlation matrix. Use `DataFrame.corr()` and `seaborn.heatmap()`.\n",
    "\n",
    "More info:\n",
    "[A comprehensive guide on heatmaps](https://www.geeksforgeeks.org/python/seaborn-heatmap-a-comprehensive-guide/)\n",
    "\n",
    "---"
   ]
  },
  {
   "cell_type": "code",
   "execution_count": null,
   "id": "2d2a61fe",
   "metadata": {},
   "outputs": [],
   "source": [
    "print(df.____)\n",
    "plt.figure(figsize=(8,6))\n",
    "sns.heatmap(df._____, annot=True)#complete the code and test changing 'annot' argument to False\n",
    "plt.title(\"Correlation Matrix\")\n",
    "plt.show()"
   ]
  }
 ],
 "metadata": {
  "kernelspec": {
   "display_name": "Python 3 (Spyder)",
   "language": "python3",
   "name": "python3"
  },
  "language_info": {
   "codemirror_mode": {
    "name": "ipython",
    "version": 3
   },
   "file_extension": ".py",
   "mimetype": "text/x-python",
   "name": "python",
   "nbconvert_exporter": "python",
   "pygments_lexer": "ipython3",
   "version": "3.13.7"
  }
 },
 "nbformat": 4,
 "nbformat_minor": 5
}
