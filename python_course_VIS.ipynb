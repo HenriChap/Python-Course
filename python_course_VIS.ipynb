{
 "cells": [
  {
   "cell_type": "markdown",
   "id": "86a71871",
   "metadata": {},
   "source": [
    "# Data Analysis in Python\n",
    "## Data Visualization\n"
   ]
  },
  {
   "cell_type": "markdown",
   "id": "1a43e3f5",
   "metadata": {},
   "source": [
    "### Load packages\n",
    "\n",
    "To begin today's class, import the main Python packages. Use `pandas`, `matplotlib.pyplot`, `seaborn` and `numpy`, and give them  the respective alias: `pd`, `plt`, `sns`, `np`.\n",
    "\n",
    "---\n"
   ]
  },
  {
   "cell_type": "code",
   "execution_count": null,
   "id": "b1784dc8",
   "metadata": {},
   "outputs": [],
   "source": [
    "#import packages"
   ]
  },
  {
   "cell_type": "markdown",
   "id": "728d861c",
   "metadata": {},
   "source": [
    "### Load data\n",
    "\n",
    "Load your dataset into a DataFrame using the appropriate pandas function. For CSV files, use `pd.read_csv()`.  \n",
    "See: [Reading CSV files with Pandas](https://www.w3schools.com/python/pandas/pandas_csv.asp)\n",
    "\n",
    "---"
   ]
  },
  {
   "cell_type": "code",
   "execution_count": null,
   "id": "02f0f503",
   "metadata": {},
   "outputs": [],
   "source": [
    "df = pd.read_csv(\"name_your_file.csv\")\n",
    "df.head()"
   ]
  },
  {
   "cell_type": "markdown",
   "id": "911b0da2",
   "metadata": {},
   "source": [
    "### Box Plot\n",
    "\n",
    "Visualize the distribution and compare groups using a box plot. Use `seaborn.boxplot()` to plot the data. \n",
    "\n",
    "More info: \n",
    "\n",
    "[Setting Lables](https://www.w3schools.com/python/matplotlib_labels.asp)\n",
    "[plt.figure options](https://www.geeksforgeeks.org/python/matplotlib-pyplot-figure-in-python/)\n",
    "[Plotting box plot](https://python-graph-gallery.com/boxplot/)\n",
    "\n",
    "---"
   ]
  },
  {
   "cell_type": "code",
   "execution_count": null,
   "id": "8923bbfa",
   "metadata": {},
   "outputs": [],
   "source": [
    "plt.figure(figsize=(6,4)) #Suggested figure size, with width = 6 adn height = 4\n",
    "sns.boxplot(x=\"_\", y=\"_\", data=_)\n",
    "plt.title(\"_\")\n",
    "plt.show()"
   ]
  },
  {
   "cell_type": "markdown",
   "id": "70369e32",
   "metadata": {},
   "source": [
    "### Beeswarm Plot\n",
    "\n",
    "Show the distribution of individual data points within groups using a beeswarm plot. Use `seaborn.swarmplot()` for this visualization. It is veri similar to `seaborn.boxplot()`\n",
    "\n",
    "See: [Beeswarm plot](https://python-graph-gallery.com/beeswarm/)\n",
    "\n",
    "---"
   ]
  },
  {
   "cell_type": "code",
   "execution_count": null,
   "id": "8ec7a674",
   "metadata": {},
   "outputs": [],
   "source": [
    "plt.figure()\n",
    "sns.swarmplot(__)\n",
    "plt.title(__)\n",
    "plt.show()"
   ]
  },
  {
   "attachments": {},
   "cell_type": "markdown",
   "id": "b8be73df",
   "metadata": {},
   "source": [
    "### Scatter Plot with a regression line\n",
    "\n",
    "Explore the relationship between two numeric variables using a scatter plot. Use `matplotlib.pyplot.scatter()` for the scatter plot, and also use `numpy.polyfit()`, `numpy.linspace()`, and `plt.plot()` to draw a regression line.\n",
    "\n",
    "+ You will use data frame indexing and multiple assignment. The `numpy.polyfit()` returns, respectively, the slope and intercept values, and it receives as arguments two arrays for x and y (*tip: use indexing just to get the values for x and y*), the last argument is the number of polinomials, and since it is a simple linear regression, it is equal `1` .\n",
    "+ Then the method `numpy.linspace()` creates a sequence of spaced values, the arguments for this method is the lower values, upper value, and the number of points.\n",
    "+ Finally `plt.plot` plot a y versus x as line, using as input an array with the *x* values, *y* values, and can also accept aesthetics arguments, like `color` to set the color\n",
    "Using the formula below, it is possible to set a sequence representing the regression line.\n",
    "\n",
    "<img src=\"https://miro.medium.com/v2/resize:fit:1248/format:webp/0*MJdfy7jBT0KTXQE0.jpg\" width=\"35%\" height=\"35%\">\n",
    "\n",
    "More info:  \n",
    "- [Scatter plot with linear regression](https://python-graph-gallery.com/scatterplot-with-regression-fit-in-matplotlib/)  \n",
    "\n",
    "---"
   ]
  },
  {
   "cell_type": "code",
   "execution_count": null,
   "id": "d596eea0",
   "metadata": {},
   "outputs": [],
   "source": [
    "\n",
    "# Scatter plot\n",
    "plt.figure(__) \n",
    "plt.scatter(df['score1'], df['score2'], alpha=0.7, label='Data') # Plot the data points with some transparency (alpha=0.7) and label them as 'Data'\n",
    "\n",
    "# Fit and plot regression line\n",
    "m, b = np.polyfit(df['score1'], df['score2'], 1) \n",
    "x = np.linspace(df['score1'].min(), df['score1'].max(), 100) #Use this commentary to explain this line\n",
    "plt.plot(x, m*x + b, color='red', label='Fitted Line')  \n",
    "\n",
    "# Labels and title\n",
    "plt.xlabel(\"__\") # \n",
    "plt.ylabel(\"__\") # \n",
    "#plt.legend()  # test\n",
    "#plt.grid(True) # \n",
    "\n",
    "# Display the plot\n",
    "__.___()"
   ]
  },
  {
   "cell_type": "markdown",
   "id": "20f4cd15",
   "metadata": {},
   "source": [
    "### Export plots\n",
    "\n",
    "Save your visualizations to files using the `savefig()` function from `matplotlib.pyplot`.\n",
    "\n",
    "More info: [Saving plots](https://www.geeksforgeeks.org/python/matplotlib-pyplot-savefig-in-python/)"
   ]
  },
  {
   "cell_type": "code",
   "execution_count": null,
   "id": "2e378500",
   "metadata": {},
   "outputs": [],
   "source": [
    "#Save last plot as PNG\n",
    "plt.___(\"___.png\")"
   ]
  },
  {
   "cell_type": "markdown",
   "id": "c65555e3",
   "metadata": {},
   "source": [
    "### Optional: choose a plot\n",
    "\n",
    "Use [Python Graph Gallery](https://python-graph-gallery.com/) repository to plot your data. Be mindful with the packages needed.\n",
    "Suggestion: try [Density plot of several variable](https://python-graph-gallery.com/74-density-plot-of-several-variables/)."
   ]
  },
  {
   "cell_type": "markdown",
   "id": "98c9c88a",
   "metadata": {},
   "source": []
  }
 ],
 "metadata": {
  "kernelspec": {
   "display_name": "Python 3 (Spyder)",
   "language": "python3",
   "name": "python3"
  },
  "language_info": {
   "codemirror_mode": {
    "name": "ipython",
    "version": 3
   },
   "file_extension": ".py",
   "mimetype": "text/x-python",
   "name": "python",
   "nbconvert_exporter": "python",
   "pygments_lexer": "ipython3",
   "version": "3.13.7"
  }
 },
 "nbformat": 4,
 "nbformat_minor": 5
}
